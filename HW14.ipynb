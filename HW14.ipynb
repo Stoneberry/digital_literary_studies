{
 "cells": [
  {
   "cell_type": "markdown",
   "metadata": {},
   "source": [
    "## Анастасия Костяницына\n",
    "### БКЛ-151"
   ]
  },
  {
   "cell_type": "code",
   "execution_count": 1,
   "metadata": {},
   "outputs": [],
   "source": [
    "from pymystem3 import Mystem\n",
    "\n",
    "\n",
    "m = Mystem()"
   ]
  },
  {
   "cell_type": "markdown",
   "metadata": {},
   "source": [
    "### Задание 1"
   ]
  },
  {
   "cell_type": "code",
   "execution_count": 2,
   "metadata": {},
   "outputs": [],
   "source": [
    "import re\n",
    "\n",
    "def lemmatize(path):\n",
    "    with open(path, 'r', encoding='utf-8') as f:\n",
    "        arr = f.read()\n",
    "        arr = re.sub('\\n', '', arr)\n",
    "        return ''.join(m.lemmatize(arr.lower()))"
   ]
  },
  {
   "cell_type": "code",
   "execution_count": 3,
   "metadata": {},
   "outputs": [
    {
     "data": {
      "text/plain": [
       "'мырь говорить себя, что я видеть мир. но весь мир недоступный мой взгляд, и я видеть только часть мир. и все, что я видеть, я называть часть мир. и я наблюдать свойство этот часть, и, наблюдать свойство часть, я делать наука. я понимать, что быть умный свойство часть и быть не умный свойство в тот же часть. я делить они и давать они имя. и в зависимость от их свойство, часть мир быть умный и не умный.и быть такой часть мир, который мочь думать. и этот часть смотреть на другой часть и на я. и весь часть быть похожий друг на друг, и я быть похожий на они.я говорить: часть гром.часть говорить: пук время.я говорить: я тоже часть три поворот.часть отвечать: мы же маленький точка.и вдруг я переставать видеть они, а потом и другой часть. и я испугаться, что рухнуть мир.но тут я понимать, что я не видеть часть по отдельность, а видеть весь зараз.сначала я думать, что это ничто. пл. но потом понимать, что это мир, а то, что я видеть рано, быть не мир.и я всегда знать, что такой мир, но, что я в'"
      ]
     },
     "execution_count": 3,
     "metadata": {},
     "output_type": "execute_result"
    }
   ],
   "source": [
    "lemmatize('untitled text.txt')[0:1000]"
   ]
  },
  {
   "cell_type": "markdown",
   "metadata": {},
   "source": [
    "### Задание 2"
   ]
  },
  {
   "cell_type": "markdown",
   "metadata": {},
   "source": [
    "Если я правильно поняла задание, то нужно заменить слова, начинающиеся на П и содержащие Л на слово ГЛАГОЛ"
   ]
  },
  {
   "cell_type": "code",
   "execution_count": 4,
   "metadata": {},
   "outputs": [],
   "source": [
    "def count_replacements(text):\n",
    "    \n",
    "    '''\n",
    "        Сразу с бонусным условием\n",
    "    '''\n",
    "    reg = r'\\bп\\w*л\\w*ть(?:ся)?\\b'\n",
    "    ans = [i for i in re.findall(reg, text) if len(i) > 2]\n",
    "    text = re.sub('|'.join(ans), 'глагол', text)\n",
    "    return len(ans), text"
   ]
  },
  {
   "cell_type": "code",
   "execution_count": 5,
   "metadata": {},
   "outputs": [],
   "source": [
    "text = lemmatize('untitled text.txt')\n",
    "count, text = count_replacements(text)"
   ]
  },
  {
   "cell_type": "code",
   "execution_count": 6,
   "metadata": {},
   "outputs": [
    {
     "data": {
      "text/plain": [
       "2"
      ]
     },
     "execution_count": 6,
     "metadata": {},
     "output_type": "execute_result"
    }
   ],
   "source": [
    "count"
   ]
  },
  {
   "cell_type": "markdown",
   "metadata": {},
   "source": [
    "### Задание 3"
   ]
  },
  {
   "cell_type": "code",
   "execution_count": 7,
   "metadata": {},
   "outputs": [],
   "source": [
    "from collections import Counter"
   ]
  },
  {
   "cell_type": "code",
   "execution_count": 8,
   "metadata": {},
   "outputs": [],
   "source": [
    "ans = Counter(re.findall('ее|её|но|ну|го|пл', text))\n",
    "\n",
    "def counter(ans):\n",
    "    return [[idex, item[1]] for idex, item in enumerate(sorted(ans.items(), key=lambda x: x[1]))]"
   ]
  },
  {
   "cell_type": "code",
   "execution_count": 9,
   "metadata": {},
   "outputs": [],
   "source": [
    "lst = counter(ans)"
   ]
  },
  {
   "cell_type": "code",
   "execution_count": 10,
   "metadata": {},
   "outputs": [
    {
     "data": {
      "text/plain": [
       "[[0, 4], [1, 5], [2, 10], [3, 20], [4, 61]]"
      ]
     },
     "execution_count": 10,
     "metadata": {},
     "output_type": "execute_result"
    }
   ],
   "source": [
    "lst"
   ]
  },
  {
   "cell_type": "markdown",
   "metadata": {},
   "source": [
    "### Задание 4"
   ]
  },
  {
   "cell_type": "code",
   "execution_count": 11,
   "metadata": {},
   "outputs": [],
   "source": [
    "import matplotlib.pyplot as plt\n",
    "%matplotlib inline  "
   ]
  },
  {
   "cell_type": "code",
   "execution_count": 12,
   "metadata": {},
   "outputs": [
    {
     "data": {
      "text/plain": [
       "<matplotlib.text.Text at 0x105fad080>"
      ]
     },
     "execution_count": 12,
     "metadata": {},
     "output_type": "execute_result"
    },
    {
     "data": {
      "image/png": "[encoded data removed]",
      "text/plain": [
       "<matplotlib.figure.Figure at 0x105f915f8>"
      ]
     },
     "metadata": {},
     "output_type": "display_data"
    }
   ],
   "source": [
    "plt.plot(range(len(lst)), [i[1] for i in lst], color=\"blue\")\n",
    "plt.title('Зависимость Index от Count')\n",
    "plt.xlabel('Count')\n",
    "plt.xlabel('Index')"
   ]
  },
  {
   "cell_type": "code",
   "execution_count": null,
   "metadata": {},
   "outputs": [],
   "source": []
  }
 ],
 "metadata": {
  "kernelspec": {
   "display_name": "Python 3",
   "language": "python",
   "name": "python3"
  },
  "language_info": {
   "codemirror_mode": {
    "name": "ipython",
    "version": 3
   },
   "file_extension": ".py",
   "mimetype": "text/x-python",
   "name": "python",
   "nbconvert_exporter": "python",
   "pygments_lexer": "ipython3",
   "version": "3.5.2"
  }
 },
 "nbformat": 4,
 "nbformat_minor": 2
}
